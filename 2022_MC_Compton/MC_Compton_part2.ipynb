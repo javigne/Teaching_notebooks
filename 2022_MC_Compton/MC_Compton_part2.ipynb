{
 "cells": [
  {
   "cell_type": "markdown",
   "id": "3c6fceee",
   "metadata": {},
   "source": [
    "# MC of a Compton interaction: part II\n",
    "\n",
    "## Introduction\n",
    "\n",
    "In the previous part, you implemented a method to sample the distance travelled before a compton interaction and the $\\theta$ and $\\phi$ scatter angle, after the interaction has taken place.\n",
    "\n",
    "Now we can put everything together and run our small MC experiment. \n"
   ]
  },
  {
   "cell_type": "markdown",
   "id": "bef840b1",
   "metadata": {},
   "source": [
    "## 1. Recap of functions you wrote yourself in part 1\n",
    "\n",
    "#### packages"
   ]
  },
  {
   "cell_type": "code",
   "execution_count": null,
   "id": "adc6083b",
   "metadata": {},
   "outputs": [],
   "source": [
    "import numpy as np\n",
    "import sympy\n",
    "import matplotlib.pyplot as plt\n",
    "import sys\n",
    "sys.path.append("..")\n"
    "import utils\n",
    "plt.style.use('seaborn-colorblind')"
   ]
  },
  {
   "cell_type": "markdown",
   "id": "edf4d882",
   "metadata": {},
   "source": [
    "## 2. MC simulation"
   ]
  },
  {
   "cell_type": "code",
   "execution_count": null,
   "id": "455af115",
   "metadata": {},
   "outputs": [],
   "source": [
    "def mc_compton(n, incoming_energy_keV, mu, thickness_slab, z_d, xs_detector, ys_detector, pixelsize):\n",
    "    \"\"\" Simulate N Compton events \n",
    "    \n",
    "    INPUT\n",
    "    * n = number of iterations\n",
    "    * incoming_energy_keV = the energy of the incoming photon in keV\n",
    "    * mu = the cross section for compton in 1/cm\n",
    "    * thickness_slab = the thickness of the material in cm\n",
    "    * z_d = the position of the detector in cm\n",
    "    * xs_detector = the length of the detector in cm in the x direction\n",
    "    * ys_detector = the length of the detector in cm in the y direction\n",
    "    * pixelsize = the x and y length of a pixel in cm\n",
    "    \n",
    "    return: /\n",
    "    \"\"\"\n",
    "    \n",
    "    # We will keep track of how many photons are \n",
    "    # - rejected when doing the angle sampling, \n",
    "    # - considered primaries (and therefore ignored) \n",
    "    # - or are scattered out of bounce\n",
    "    n_out_of_bounce = 0\n",
    "    n_rejected = 0\n",
    "    n_primary = 0 \n",
    "    \n",
    "    # get the pdf distribution for the energy of the incoming photon, calculate kappa for this energy and initialise the image\n",
    "    pdf, min_tau, max_tau = get_pdf(incoming_energy_keV)\n",
    "    kappa_v = kappa(incoming_energy_keV)\n",
    "    im = Image(xs_detector=xs_detector, ys_detector=ys_detector,pixelsize=pixelsize)\n",
    "    \n",
    "    # Run the events \n",
    "    for i in range(n):\n",
    "        # compton interaction in the slab\n",
    "        s = distance_travelled_before_interaction(mu)\n",
    "        if s>thickness_slab:\n",
    "            n_primary +=1\n",
    "            continue\n",
    "        co_i = np.array([0,0,s[0]])\n",
    "        \n",
    "        # compton interaction in the slab\n",
    "        res, tau_out = rejection_sampling(min_tau, max_tau, pdf)\n",
    "        if res:\n",
    "            # Get the angles\n",
    "            phi_out = get_phi()\n",
    "            theta_out = get_theta(tau_out, kappa_v)\n",
    "            # Get the direction\n",
    "            d = get_direction(phi_out, theta_out) \n",
    "            # Get the position of the scattered photon on the detector\n",
    "            co_e = get_detector_position_co(co_i, d, z_detector=z_d, xs_detector=im.xs_detector, ys_detector=im.ys_detector)\n",
    "            if co_e is not None:\n",
    "                im.add_count(co_e)\n",
    "            else:\n",
    "                n_out_of_bounce +=1\n",
    "        else:\n",
    "            n_rejected +=1 \n",
    "\n",
    "\n",
    "    # Show the image\n",
    "    plt.imshow(im.image)\n",
    "    plt.show()\n",
    "    \n",
    "    # Calculate the rejection rates\n",
    "    if n==n_primary:\n",
    "        rejectionrate = 0\n",
    "    else:\n",
    "        rejectionrate = np.round(n_rejected/(n-n_primary)*100)\n",
    "    if n==n_primary+n_rejected: \n",
    "        outofbouncerate = 0\n",
    "    else:\n",
    "        outofbouncerate = np.round(n_out_of_bounce/(n-n_primary-n_rejected)*100)\n",
    "    primaryrate = np.round(n_primary/n*100)\n",
    "    print('Angle rejection Rate = ', rejectionrate,'%, out of bounce rate=', outofbouncerate ,'% Primary rate=', primaryrate , ' %')"
   ]
  },
  {
   "cell_type": "markdown",
   "id": "c8ea91df",
   "metadata": {},
   "source": [
    "**excercise:** Explain\n",
    "1. The effect of energy on the rejection rate when sampling $\\theta $. \n",
    "2. The effect of slab thickness on the primary rate.\n",
    "3. The effect of detector distance on the out of bounce rate and primary rate"
   ]
  },
  {
   "cell_type": "code",
   "execution_count": null,
   "id": "833b9304",
   "metadata": {},
   "outputs": [],
   "source": [
    "incoming_energy_keV = 1000\n",
    "mu = get_compton_crosssection(incoming_energy_keV, atomic_number=20, density=1.63)\n",
    "\n",
    "mc_compton(n=20000,\n",
    "           incoming_energy_keV= incoming_energy_keV, \n",
    "           mu=mu, \n",
    "           thickness_slab = 2, \n",
    "           z_d=23, \n",
    "           xs_detector=100, \n",
    "           ys_detector=100, \n",
    "           pixelsize=1)"
   ]
  },
  {
   "cell_type": "code",
   "execution_count": null,
   "id": "5c909e6a",
   "metadata": {},
   "outputs": [],
   "source": []
  }
 ],
 "metadata": {
  "kernelspec": {
   "display_name": "Python 3 (ipykernel)",
   "language": "python",
   "name": "python3"
  },
  "language_info": {
   "codemirror_mode": {
    "name": "ipython",
    "version": 3
   },
   "file_extension": ".py",
   "mimetype": "text/x-python",
   "name": "python",
   "nbconvert_exporter": "python",
   "pygments_lexer": "ipython3",
   "version": "3.9.6"
  }
 },
 "nbformat": 4,
 "nbformat_minor": 5
}
