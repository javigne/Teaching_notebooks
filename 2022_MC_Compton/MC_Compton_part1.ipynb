{
 "cells": [
  {
   "attachments": {
    "illustration.png": {
     "image/png": "[encoded data removed]"
    }
   },
   "cell_type": "markdown",
   "id": "26028568",
   "metadata": {},
   "source": [
    "# MC of a Compton interaction: part I\n",
    "\n",
    "## Introduction\n",
    "\n",
    "In this excercise session we will run a monte carlo simulation of a **single compton interaction**. An incoming x-ray of energy $E$ wil impinge a slab of a material with thickness $T$ atomic number $Z$. After a certain distance $zc$, the photon undergoes a compton interaction and is scattered under a certain solid angle $\\Omega$. After this single interaction, the photon will freely propagate until it reaches the detector and is measured. \n",
    "\n",
    "This excercise consists out of different steps.\n",
    "1. Calculate the **distance travelled** before a compton interaction takes place. \n",
    "2. Determine **the angle** under which the photon will be scattered using the Klein-Nishina cross-section.\n",
    "3. Determine if the scattered photon will end up on the detector and if so in which pixel\n",
    "4. Put everything together. \n",
    "\n",
    "Step 1 and 2: are done in this workbook (part1). Step 3 and step 4 are done in part2.\n",
    "\n",
    "\n",
    "Below you see a graphical description of the problem. We assume the following:\n",
    "1. The x-rays originate from a pencil beam and propagate in direction d= [0,0,1] towards the detector.\n",
    "2. The material plate has a finite thickness T, but extends to infinity in the x and y direction. \n",
    "3. There will only be one compton interaction.\n",
    "\n",
    "![illustration.png](attachment:illustration.png)\n"
   ]
  },
  {
   "cell_type": "markdown",
   "id": "408d27eb",
   "metadata": {},
   "source": [
    "### packages"
   ]
  },
  {
   "cell_type": "code",
   "execution_count": null,
   "id": "008c3ae2",
   "metadata": {},
   "outputs": [],
   "source": [
    "import numpy as np\n",
    "import sympy\n",
    "import matplotlib.pyplot as plt"
   ]
  },
  {
   "cell_type": "markdown",
   "id": "c37d4340",
   "metadata": {},
   "source": [
    "## STEP 1: Distance travelled before a compton interaction\n",
    "In the first step we need to sample the probability for a compton interaction to happen. This problem is described in your handbook on page 364. The relative number of x-rays that will compton scatter after some distance $dc$ in a material is given by:\n",
    "$$ \\frac{I}{I_0} = \\exp(-\\mu_c \\cdot dc) $$\n",
    "The probability density function for a photon to interact via the Compton process between $s+ds$ is then given by:\n",
    "$$ f(s) = \\mu \\cdot \\exp(-\\mu s) $$\n",
    "This is a common distribution and you can use section 8.2.4 to determine for a random value $\\xi$ what the distance before interaction is. \n",
    "In this excercise, the cross-section for interaction will be taken from the NIST database (https://physics.nist.gov/cgi-bin/Xcom/xcom2). \n",
    "- The cross-sections for calcium (Z=20) are already downloaded and put in the excercise folder. The density of calcium is 1.63 g/cm³."
   ]
  },
  {
   "cell_type": "code",
   "execution_count": null,
   "id": "18c9eefe",
   "metadata": {},
   "outputs": [],
   "source": [
    "# DO NOT CHANGE\n",
    "\n",
    "def get_compton_crosssection(energy_keV, atomic_number, density):\n",
    "    \"\"\"reads the nist file, interpolates to energy = energy_keV and return the associated compton cross section\n",
    "    energy_keV = energy [keV]\n",
    "    atomic number = Z value\n",
    "    density = density in [g/cm³]\n",
    "    returns: cross section [1/cm]\n",
    "    \"\"\" \n",
    "    if energy_keV< 1:\n",
    "        print('Energy should be larger or equal to 1 keV')\n",
    "        return 0\n",
    "    # read in NIST DATA\n",
    "    input = np.loadtxt('CrossSection_Compton_Z%i.txt' %atomic_number, skiprows =3)\n",
    "    # set energy in MeV\n",
    "    energy_MeV = energy_keV/1000\n",
    "    # interpolate\n",
    "    cross_section = np.interp(energy_MeV, input[:,0], input[:,1])*density\n",
    "    return cross_section\n",
    "\n",
    "mu = get_compton_crosssection(30,20,1.63)\n",
    "print('The cross section is ', mu)"
   ]
  },
  {
   "cell_type": "markdown",
   "id": "681fc07e",
   "metadata": {},
   "source": [
    "**Exercise 1a:** Now implement ***sampling from common distributions method*** to sample the probability for interaction. Compleet the function below. "
   ]
  },
  {
   "cell_type": "code",
   "execution_count": null,
   "id": "a1dd292b",
   "metadata": {},
   "outputs": [],
   "source": [
    "# COMPLETE THIS SCRIPT\n",
    "def distance_travelled_before_interaction(mu):\n",
    "    \"\"\" \n",
    "    input: cross section for compton scatter [1/cm]\n",
    "    returns: sampled distance travelled before interaction [cm]\n",
    "    \"\"\"\n",
    "    xi = np.random.random(1)  # one random value between [0,1]\n",
    "    s = ...  # COMPLETE\n",
    "    return s"
   ]
  },
  {
   "cell_type": "markdown",
   "id": "de7d1e89",
   "metadata": {},
   "source": [
    "**Exercise 1b:** Now we will use the function you have just created to see which distances a photon travels before encountering a Compton interaction. \n",
    "1. Complete the script below.\n",
    "2. Repeat the sampling N times and plot the result in a histogram. Is this what you would expect? Run the script for N =50, N=100, N=1000 and N=10000.\n",
    "3. What is the average and std of the distance travelled? How should they relate to mu?"
   ]
  },
  {
   "cell_type": "code",
   "execution_count": null,
   "id": "d824339f",
   "metadata": {},
   "outputs": [],
   "source": [
    "# COMPLETE THIS SCRIPT\n",
    "mu = get_compton_crosssection(30,20,1.63)\n",
    "N = 10000\n",
    "distances = np.ones(N) * (-1)  # an array holding the different distances, for now filled with unrealistic (-1) values\n",
    "for i in range(N):\n",
    "    distances[i] = ...   # COMPLETE\n",
    "    \n",
    "plt.hist(distances, bins=100)\n",
    "plt.xlabel('distance before interaction cm')\n",
    "plt.show()\n",
    "\n",
    "avg_distance = np.mean(distances)\n",
    "std_distance = np.std(distances)\n",
    "expected_average = ...  # COMPLETE\n",
    "expected_std = ...    # COMPLETE\n",
    "print('Average distance travelled =', np.round(avg_distance,2), '+/-', np.round(std_distance,2))\n",
    "print('expected average =', np.round(expected_average,2), '+/-', np.round(expected_std,2))\n"
   ]
  },
  {
   "cell_type": "markdown",
   "id": "535777f2",
   "metadata": {},
   "source": [
    "**Excercise 1c:** The slab has a finite thickness of 10 cm. This means that some photons will pass the slab without having an interaction. In this project we are not interested in those primary photons. Adjust the script above to kick those x-rays out.\n",
    "\n",
    "Python tip: you can use 'distances = distances[distances!=A]' to remove all values A out of an array."
   ]
  },
  {
   "cell_type": "code",
   "execution_count": null,
   "id": "bdaf803d",
   "metadata": {},
   "outputs": [],
   "source": [
    "# COMPLETE THIS SCRIPT\n",
    "\n",
    "N = 1000\n",
    "distances = np.ones(N) * (-1)  # an array holding the different distances, for now filled with unrealistic (-1) values\n",
    "thickness_slab = 10\n",
    "for i in range(N):  # COMPLETE\n",
    "...\n",
    "    \n",
    "plt.hist(distances, bins=100)\n",
    "plt.xlabel('distance before interaction cm')\n",
    "plt.show()"
   ]
  },
  {
   "cell_type": "markdown",
   "id": "1708ed58",
   "metadata": {},
   "source": [
    "### Step 2: The scatter angle\n",
    "\n",
    "#### 2.1 introduction\n",
    "\n",
    "After the compton interaction the photon will be scattered. In this step the probability distribution of the scatter angle will be sampled. The Klein-Nishina cross-section gives the probability to be scattered in a certain solid angle. The equation can be written as a function of $\\theta$, the scatter angle where $\\theta=0$ equals forward scatter and $\\theta=\\pi$ equals backward scatter. More commonly the equation is written as a function of energy. Due to conservation of energy and conservation of momentum, the scatter angle $\\theta$  is related to the energy transfer. \n",
    "\n",
    "$$ \\frac{\\partial \\sigma}{ \\partial \\Omega} = Z \\frac{r_e^2}{2}\\left(\\frac{Ec}{E}\\right)^2 \\left(\\frac{Ec}{E} + \\frac{E}{Ec}-\\sin^2\\theta\\right)$$ \n",
    "\n",
    "with $E$ the energy of the incoming photon and $Ec$  the energy of the scattered photon. The ratio of these energies is directly related to the scatter angle. This quantity is refered to as $\\tau$:\n",
    "\n",
    "$$ \\tau \\equiv \\frac{Ec}{E} = \\frac{1}{1 + \\kappa (1-\\cos \\theta)} $$\n",
    "\n",
    "with $\\kappa = E/m_e c^2$, the ratio of the energy of the incoming photon and the rest energy of the electron. \n",
    "\n",
    "Baro et al. wrote an algorithm to sample the Klein-Nishina PDF. In order to apply it, it should be rewritten as:\n",
    "\n",
    "$$ PDF = \\frac{1}{\\tau^2} +  \\frac{\\kappa^2 -2\\kappa -2}{\\tau} + (2\\kappa +1) + \\kappa^2\\tau$$ \n",
    "\n",
    "with the minimal and maximal value of $\\tau$\n",
    "$$ \\tau_{min} = \\frac{1}{1+2\\kappa} $$ and $$ \\tau_{max}=1 $$\n",
    "\n",
    "#### 2.2 the pdf\n",
    "Sampling the pdf above is not straightforward. Mainly, because there are 2 unkowns in the function ($\\tau$ and $\\kappa$). The equation can be simplified by fixing the energy of the incoming photon and setting the value of $\\kappa$ in the pdf.\n",
    "\n",
    "Below first the equation of the pdf is given as a symbolic equation, kappa calculated and a a PDF 'pdf_fixk' calculated for a given energy ($E=120$ keV). At the end the pdf(E=120kEV) is plotted."
   ]
  },
  {
   "cell_type": "code",
   "execution_count": null,
   "id": "1d13486c",
   "metadata": {},
   "outputs": [],
   "source": [
    "# DO NOT CHANGE\n",
    "\"\"\"A. Define symbols and construct a the pdf as a sympy equation\n",
    "\"\"\"\n",
    "tau_s = sympy.symbols('tau', real=True, positive=True) # ratio of the scattered and incoming energy Ec/E\n",
    "k_s = sympy.symbols('kappa', real=True, positive=True) # ratio of the incoming energy and the electron rest energy\n",
    "\n",
    "pdf_symp = 1/tau_s**2 + (k_s**2-2*k_s-2)/tau_s + (2*k_s+1) + k_s**2*tau_s\n",
    "pdf_symp  # displays the symbolic formula"
   ]
  },
  {
   "cell_type": "code",
   "execution_count": null,
   "id": "80a1ef2b",
   "metadata": {},
   "outputs": [],
   "source": [
    "# DO NOT CHANGE\n",
    "''' B. Kappa\n",
    "'''\n",
    "mec2 = 5.11e5 # rest energy electron eV\n",
    "kappa = lambda E: E * 1000/mec2  # a function that calculates kappa from an energy E in keV\n",
    "\n",
    "''' C. Simplify the pdf by evaluating it for a certain incoming energy E\n",
    "'''\n",
    "incoming_energy_keV = 1000\n",
    "pdf_symp_kfix = pdf_symp.subs(k_s, kappa(incoming_energy_keV))  # subsitute 'k_s' by a value \n",
    "pdf_symp_kfix # displays the symbolic formula"
   ]
  },
  {
   "cell_type": "code",
   "execution_count": null,
   "id": "a71df2d8",
   "metadata": {},
   "outputs": [],
   "source": [
    "# DO NOT CHANGE\n",
    "''' D. plot the pdf at a fixed kappa value as function of tau\n",
    "'''\n",
    "min_tau = 1/(1+2*kappa(incoming_energy_keV))\n",
    "max_tau = 1\n",
    "tau_array = np.linspace(min_tau, max_tau, 1000)\n",
    "pdf = sympy.lambdify([tau_s], pdf_symp_kfix) # transforms the sympy expression to a python function \n",
    "plt.plot(tau_array, pdf(tau_array))\n",
    "plt.show()"
   ]
  },
  {
   "cell_type": "markdown",
   "id": "21ea280c",
   "metadata": {},
   "source": [
    "**excercise 2a:** We will sample the pdf plotted above using the ***rejection method*** described in the book in 8.2.3. The pdf as it is, is not ready to be used. Apply some transformations such that it becomes usable. \n",
    "\n",
    "Python tip: The transforming is the easiest in sympy. You can use the common symbols (\\*,/,+,-) on pdf_symp. To evaluate the sympy expression: use the sympy.subs(x,x_val) method (also used above to set a value for $\\kappa$). All x's will be replaced with x_val. Once ready, use sympy.lambdify to transform the sympy expression to a python function (like also done above). "
   ]
  },
  {
   "cell_type": "code",
   "execution_count": null,
   "id": "e02a77e4",
   "metadata": {},
   "outputs": [],
   "source": [
    "# COMPLETE THIS SCRIPT\n",
    "\"\"\" E. Transform the pdf\n",
    "\"\"\"\n",
    "...\n",
    "pdf = ...\n",
    "plt.plot(tau_array, pdf(tau_array))\n",
    "plt.show()"
   ]
  },
  {
   "cell_type": "markdown",
   "id": "b82f6089",
   "metadata": {},
   "source": [
    "**excercise 2b**: Next, we will sample the pdf using the rejection sampling method.\n",
    "1. Complete the 'Rejection_sampling' function\n",
    "2. Run 5000 times and plot the histograms of the selected $\\tau$ values. \n",
    "3. Test the effect of energy of the incoming photon on the (sampled) pdf. Try E=10keV, 30keV, 120keV, 1MeV and 10 MeV. You can change the energy in step B. Do not forget to rerun all steps inbetween. \n",
    "If your rejection algorithm is working well, the histogram should approximate the shape of pdf(tau) in the previous step."
   ]
  },
  {
   "cell_type": "code",
   "execution_count": null,
   "id": "43dcd090",
   "metadata": {},
   "outputs": [],
   "source": [
    "# COMPLETE THIS SCRIPT\n",
    "''' F. The rejection sampling method\n",
    "'''\n",
    "def rejection_sampling(min_x, max_x, pdf):\n",
    "    \"\"\" \n",
    "    input min, max and the psd function\n",
    "    return: [boolean(False/true) -, sample (x)]\n",
    "    \"\"\"\n",
    "    [xi1, xi2] = ...   # COMPLETE\n",
    "    ...    # COMPLETE\n",
    "    if ...:  # Accept         # COMPLETE\n",
    "        return True, x\n",
    "    else:  # Reject \n",
    "        return False, x\n",
    "    \n",
    "# DO NOT CHANGE\n",
    "N = 50000\n",
    "tau_out = np.ones(N) * (2) # an array holding the different distances, for now filled with unrealistic values\n",
    "for i in range(N):\n",
    "    res, x = rejection_sampling(min_tau, max_tau, pdf)\n",
    "    if res:  # accepted\n",
    "        tau_out[i] = x\n",
    "tau_out = tau_out[tau_out!=2]\n",
    "    \n",
    "plt.hist(tau_out, bins=100)\n",
    "plt.xlabel('tau')\n",
    "plt.show()"
   ]
  },
  {
   "cell_type": "markdown",
   "id": "d174db1b",
   "metadata": {},
   "source": [
    "#### 2.3 the scatter angles\n",
    "The sampling method above resulted in values of $\\tau$, but in which direction is it scattered? There are two angles defining the direction of propagation $\\theta \\in [0,\\pi] $ and $\\phi \\in [0, 2\\pi]$. \n",
    "1. $\\theta$ is directly related to $\\tau$ and can for a given $\\kappa$ be calculated (see equation in section 2.1). \n",
    "2. The value of the $\\phi$ angle is independend of $\\tau$, in other words, scatter will be uniform as a function of $\\phi$ and the $\\phi$ direction can be randomly sampled in the appropriate range."
   ]
  },
  {
   "cell_type": "markdown",
   "id": "1d2e14e6",
   "metadata": {},
   "source": [
    "**excercise 3a:** \n",
    "1. Complete the functions get_phi() and get_theta() to get a value for $\\phi$ and $\\theta$. \n",
    "2. plot N= 5000 sampled values of $\\phi$ and $\\theta$. "
   ]
  },
  {
   "cell_type": "code",
   "execution_count": null,
   "id": "0897829a",
   "metadata": {},
   "outputs": [],
   "source": [
    "# COMPLETE THIS SCRIPT\n",
    "\"\"\" G. Get the angles\n",
    "\"\"\"\n",
    "def get_phi():\n",
    "    \"\"\"\n",
    "    return: phi in [0, 2pi]\n",
    "    \"\"\"\n",
    "    xi =...  # COMPLETE\n",
    "    phi = ...        # COMPLETE\n",
    "    return phi\n",
    "\n",
    "def get_theta(tau, k):\n",
    "    \"\"\"\n",
    "    return: theta in [0, pi]\n",
    "    \"\"\"\n",
    "    cos_theta = ...  # COMPLETE\n",
    "    return np.arccos(cos_theta)\n",
    "\n",
    "#DO NOT CHANGE\n",
    "N = 5000\n",
    "phi_out = np.ones(N) * (10)\n",
    "theta_out = np.ones(N) * (10)\n",
    "kappa_value = kappa(incoming_energy_keV)\n",
    "for i in range(N):\n",
    "    res, x = rejection_sampling(min_tau, max_tau, pdf, print_val=False)\n",
    "    if res:  # accepted\n",
    "        phi_out[i] = get_phi()\n",
    "        theta_out[i] = get_theta(x,kappa_value)\n",
    " \n",
    "        \n",
    "phi_out = phi_out[phi_out!=10]\n",
    "theta_out = theta_out[theta_out!=10]\n",
    "fig, ax = plt.subplots(1,2)\n",
    "ax[0].hist(theta_out *180/np.pi, bins=100)\n",
    "ax[0].set_xlabel('theta [degr]')\n",
    "ax[1].hist(phi_out *180/np.pi, bins=100)\n",
    "ax[1].set_xlabel('phi [degr]')\n",
    "plt.show()"
   ]
  },
  {
   "cell_type": "code",
   "execution_count": null,
   "id": "278defc1",
   "metadata": {},
   "outputs": [],
   "source": []
  }
 ],
 "metadata": {
  "kernelspec": {
   "display_name": "Python 3 (ipykernel)",
   "language": "python",
   "name": "python3"
  },
  "language_info": {
   "codemirror_mode": {
    "name": "ipython",
    "version": 3
   },
   "file_extension": ".py",
   "mimetype": "text/x-python",
   "name": "python",
   "nbconvert_exporter": "python",
   "pygments_lexer": "ipython3",
   "version": "3.9.6"
  }
 },
 "nbformat": 4,
 "nbformat_minor": 5
}
